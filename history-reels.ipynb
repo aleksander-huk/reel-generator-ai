{
 "cells": [
  {
   "cell_type": "code",
   "execution_count": null,
   "metadata": {
    "colab": {
     "base_uri": "https://localhost:8080/"
    },
    "executionInfo": {
     "elapsed": 16070,
     "status": "ok",
     "timestamp": 1710151048152,
     "user": {
      "displayName": "Aleksander Huk",
      "userId": "07234610775151045834"
     },
     "user_tz": 0
    },
    "id": "BM-ZXJbIXfan",
    "outputId": "8f8a821c-6720-4c6f-e79a-f0efc8c3ff19"
   },
   "outputs": [],
   "source": [
    "!pip3 install torch torchvision torchaudio openai diffusers[\"torch\"] transformers -q"
   ]
  },
  {
   "cell_type": "code",
   "execution_count": null,
   "metadata": {
    "colab": {
     "base_uri": "https://localhost:8080/",
     "height": 86,
     "referenced_widgets": [
      "1e99139da4ce40c186850a84feb27e48",
      "4f7f62bef5e144919f361721910756cd",
      "24a20393af24403e9f318a3ae173fb6f",
      "834ad6c3711f4ea88c143140da2649e7",
      "cafa9d5c6e824a33a3328f05903589a1",
      "a7c79fdfaa1c466c9d8e2f5b14fea8a1",
      "e9ac985a574f410caf134a2669743f01",
      "e40fc3bc9c3341d78e39d97dc88caf4e",
      "e916f75de148486f8f9c4d0ecbe92e6c",
      "bb60b07902de4ce0aec569a06a90c0c2",
      "520c6ee64abd4ac4959ec9afd86ab09f"
     ]
    },
    "executionInfo": {
     "elapsed": 13462,
     "status": "ok",
     "timestamp": 1710151061607,
     "user": {
      "displayName": "Aleksander Huk",
      "userId": "07234610775151045834"
     },
     "user_tz": 0
    },
    "id": "fcc9uYWzXmye",
    "outputId": "ac8b84ad-4224-4d6f-db63-43ed4f9eaa16"
   },
   "outputs": [],
   "source": [
    "from openai import OpenAI\n",
    "import os\n",
    "import json\n",
    "from diffusers import DiffusionPipeline\n",
    "import torch\n",
    "\n"
   ]
  },
  {
   "cell_type": "code",
   "execution_count": null,
   "metadata": {
    "colab": {
     "base_uri": "https://localhost:8080/"
    },
    "executionInfo": {
     "elapsed": 659881,
     "status": "ok",
     "timestamp": 1709286871540,
     "user": {
      "displayName": "Aleksander Huk",
      "userId": "07234610775151045834"
     },
     "user_tz": 0
    },
    "id": "twv5ASskZVc_",
    "outputId": "a8af76c0-6b6d-4291-dca4-f888b76e3ac9"
   },
   "outputs": [],
   "source": [
    "from google.colab import drive\n",
    "drive.mount('/content/gdrive',force_remount=True)"
   ]
  },
  {
   "cell_type": "code",
   "execution_count": null,
   "metadata": {
    "id": "4OgSRaeDEteB"
   },
   "outputs": [],
   "source": [
    "# Part for generating a prompts"
   ]
  },
  {
   "cell_type": "code",
   "execution_count": null,
   "metadata": {
    "id": "4SMLmFFGYtdg"
   },
   "outputs": [],
   "source": [
    "!pip3 install torch torchvision torchaudio openai diffusers[\"torch\"] transformers -qc"
   ]
  },
  {
   "cell_type": "code",
   "execution_count": null,
   "metadata": {
    "colab": {
     "base_uri": "https://localhost:8080/",
     "height": 211
    },
    "executionInfo": {
     "elapsed": 371,
     "status": "error",
     "timestamp": 1710151074667,
     "user": {
      "displayName": "Aleksander Huk",
      "userId": "07234610775151045834"
     },
     "user_tz": 0
    },
    "id": "agLEHogHcvtt",
    "outputId": "e0590c6a-6878-4df4-b7f1-cb43676da362"
   },
   "outputs": [],
   "source": [
    "import json\n",
    "from openai import OpenAI\n",
    "api_key = ''\n",
    "client = OpenAI()\n",
    "\n",
    "# Opening JSON file\n",
    "f = open('result.json')\n",
    "\n",
    "# returns JSON object as\n",
    "# a dictionary\n",
    "data = json.load(f)"
   ]
  },
  {
   "cell_type": "code",
   "execution_count": null,
   "metadata": {
    "id": "ORmQXiojZBYy"
   },
   "outputs": [],
   "source": [
    "def transform_input(input_string):\n",
    "    # Split the input string into parts based on the '][' delimiter\n",
    "    parts = input_string.split('\"][\"')\n",
    "\n",
    "    # The first part (text excerpts) is further split by \"','\"\n",
    "    # We remove the initial \"['\" and final \"']\" from the parts to clean up the strings\n",
    "    texts = parts[0][2:].split('\",\"')\n",
    "\n",
    "    # The second part (prompts) is also split by \"','\", with similar cleanup\n",
    "    prompts = parts[1][:-2].split('\",\"')\n",
    "\n",
    "    return texts, prompts\n",
    "\n",
    "def generate_content(topic, issue):\n",
    "\n",
    "  system_content = '''\n",
    "  Stworz 'n' slajdów na ten temat podany przez użytkownika, gdzie 'n' to liczba podana przez użytkownika. Każdy slajd powinien mieć 1 zdanie. Użyj od 15 do 30 słów w zdaniu, zależnie od tego jak dużo materiału jest dostępne. Jeżeli w tekście jest jakieś wspomnienie o historycznej postaci, kraju lub data to użyj formatu: Z inicjatywy <person>Mieszka I</person> <country>Polska</country> przyjęła chrzest w <date>966 p.n.e </date>r. Używaj tylko tych trzech typów. Do każdego zdania wygeneruj prompt do obrazka, który powinien się znależć na prezentacji do danego zdania w jezyku angielskim. Prompt musi być generyczny, nie może przedstawiać konkretnych osób i nie może zawierać map. Może być powiązany z generalnymi osobami jak np ‘British army’ ‘polish people’, lub ‘german person’, może zawierać lokalizacje (np zamki, chiński mur, wieża Eiffla) i tym podobne. Prompt musi miec maksymalnie 15 słów. Prompt może zawierać szczegóły, ale nie ma mieć formatu opisowego. Ma konkretnie przedstawiać co powinno znaleźć się na obrazku bez dodatkowych słów opisujących na przykład znaczenie danego symbolu. Przykładowe prompt to: a polish medieval warrior sitting on a horse charging on the medieval multiple Swedish pikemen, oil painting, expressionism, detailed\n",
    "  Przykład:\n",
    "  Prompt użytkownika:\n",
    "  Belle Époque (1871-1914) ,liczba slajdów: 5\"\n",
    "  Twój output:\n",
    "  [\"content_slajd1\",\"content_slajd2\",\"content_slajd3\",\"content_slajd4\",\"content_slajd5\"][\"prompt_slajd1\",\"prompt_slajd2\",\"prompt_slajd3\",\"prompt_slajd4\",\"prompt_slajd5\"]\n",
    "  przykład: [\"Rewolucja neolityczna to przełomowy okres w historii ludzkości, rozpoczynający się około 12 000 lat temu, gdy myśliwi-zbieracze zaczęli osiadać i rozwijać rolnictwo, co zmieniło ich tryb życia i społeczeństwa\",\"W wyniku rozwoju rolnictwa, ludzie zaczęli uprawiać ziemię, hodować zwierzęta i osiedlać się w miejscach stałych, co zapoczątkowało powstanie wczesnych osad rolniczych, takich jak Çatalhöyük w Anatolii i Jericho na Bliskim Wschodzie\",\"Z inicjatywy osad rolniczych, zaczęło się wykształcać społeczeństwo złożone, gdzie ludzie specjalizowali się w różnych zawodach, a także powstawały pierwsze formy hierarchii społecznej i podziału pracy\",\"Postęp technologiczny okresu neolitu, m.in. wynalezienie ceramiki i narzędzi z kamienia, miał istotny wpływ na rozwój gospodarczy i kulturowy społeczności, umożliwiając bardziej efektywne wykorzystanie zasobów i produkcję dóbr\",\"Rewolucja neolityczna nie tylko zmieniła sposób bycia i gospodarkę ludzi, lecz także legła podstawy do przyszłych cywilizacji, stanowiąc istotny krok w kierunku rozwoju miast, pismem, i zaawansowanych form polityki i religii\"][\"Prehistoric hunters-gatherers settling, planting, and harvesting, transitioning to sedentary lifestyle, illustrated\",\"Early agricultural settlements, such as Çatalhöyük and Jericho, with cultivated fields and domesticated animals, artistic depiction\",\"Artisans and labor specialization in developing early social hierarchy, tools and ceramics visible, symbolic representation\",\"Technological advancements in the Neolithic Era, with stone tools and pottery, enhancing economic activities, abstract symbols of progress\",\"Foundations of future civilizations: abstract concept of cityscape, writing symbols, and diverse community roles, illustrating societal development\"]\n",
    "\n",
    "  '''\n",
    "\n",
    "  user_prompt = f\"{topic} - {issue} ,liczba slajdów: {5}\"\n",
    "\n",
    "\n",
    "  completion = client.chat.completions.create(\n",
    "    model=\"ft:gpt-3.5-turbo-1106:huks::8vMuzg3f\",\n",
    "    temperature = 0,\n",
    "    messages=[\n",
    "      {\"role\": \"system\", \"content\": system_content},\n",
    "      {\"role\": \"user\", \"content\": user_prompt}\n",
    "    ]\n",
    "  )\n",
    "  output = completion.choices[0].message.dict().get('content')\n",
    "  print(output)\n",
    "  texts, prompts = transform_input(output)\n",
    "\n",
    "  return texts, prompts"
   ]
  },
  {
   "cell_type": "code",
   "execution_count": null,
   "metadata": {
    "colab": {
     "base_uri": "https://localhost:8080/",
     "height": 70
    },
    "executionInfo": {
     "elapsed": 671,
     "status": "ok",
     "timestamp": 1709820304114,
     "user": {
      "displayName": "Aleksander Huk",
      "userId": "07234610775151045834"
     },
     "user_tz": 0
    },
    "id": "thX4C_IgOVMN",
    "outputId": "8f8369d6-3510-413a-ea24-f9ed9b9780da"
   },
   "outputs": [],
   "source": [
    "f\"{data[0].get('topic')} + {data[0].get('issues')}\""
   ]
  },
  {
   "cell_type": "code",
   "execution_count": null,
   "metadata": {
    "colab": {
     "base_uri": "https://localhost:8080/"
    },
    "executionInfo": {
     "elapsed": 275,
     "status": "ok",
     "timestamp": 1709820249154,
     "user": {
      "displayName": "Aleksander Huk",
      "userId": "07234610775151045834"
     },
     "user_tz": 0
    },
    "id": "YIoP3vyOOl4l",
    "outputId": "55de3d86-ddfb-45c3-89a7-0b82cb29b7f7"
   },
   "outputs": [],
   "source": [
    "data[0].get('issues')"
   ]
  },
  {
   "cell_type": "code",
   "execution_count": null,
   "metadata": {
    "id": "honcdCF5kRES"
   },
   "outputs": [],
   "source": [
    "for records in data:\n",
    "  topic = records.get('topic')\n",
    "  issues = records.get('issues')\n",
    "  contents_list = []\n",
    "  prompts_list = []\n",
    "  for issue in issues:\n",
    "    transformed_texts, transformed_prompts = generate_content(topic, issue)\n",
    "    contents_list.append(transformed_texts)\n",
    "    prompts_list.append(transformed_prompts)\n",
    "  records['content'] = contents_list\n",
    "  records['prompts'] = prompts_list\n"
   ]
  },
  {
   "cell_type": "code",
   "execution_count": null,
   "metadata": {
    "id": "jOPpj-17VheT"
   },
   "outputs": [],
   "source": [
    "# New prompt test"
   ]
  },
  {
   "cell_type": "code",
   "execution_count": null,
   "metadata": {
    "id": "tuNy55it9e3C"
   },
   "outputs": [],
   "source": []
  },
  {
   "cell_type": "code",
   "execution_count": null,
   "metadata": {
    "id": "u4EizMVWXwsB"
   },
   "outputs": [],
   "source": [
    "whole_dict = {}\n",
    "for record in data:\n",
    "    new_prompt = \"\"\"\n",
    "    Użytkownik poda Ci temat oraz listę lekcji do wygenerowania z danego tematu. Do każdej lekcji  stworz 'n' slajdów, gdzie 'n' to liczba slajdów podana przez użytkownika. Każdy slajd powinien mieć 1 zdanie. Użyj od 15 do 30 słów w zdaniu, zależnie od tego jak dużo materiału jest dostępne. Jeżeli w tekście jest jakieś wspomnienie o historycznej postaci, kraju lub data to użyj formatu: Z inicjatywy <person>Mieszka I</person> <country>Polska</country> przyjęła chrzest w <date>966 p.n.e </date>r. Używaj tylko tych trzech typów. Do każdego zdania wygeneruj 2 prompty do obrazków, które powinny się znależć na prezentacji do danego zdania w jezyku angielskim. Prompt musi być generyczny, nie może przedstawiać konkretnych osób i nie może zawierać map. Może być powiązany z generalnymi osobami jak np ‘British army’ ‘polish people’, lub ‘german person’, może zawierać lokalizacje (np zamki, chiński mur, wieża Eiffla) i tym podobne. Prompt musi miec maksymalnie 20 słów, ale nie mniej niż 3. Prompt może zawierać szczegóły, ale nie ma mieć formatu opisowego. Ma konkretnie przedstawiać co powinno znaleźć się na obrazku bez dodatkowych słów opisujących na przykład znaczenie danego symbolu. Przykładowe prompt to: a polish medieval warrior sitting on a horse charging on the medieval multiple Swedish pikemen, oil painting, expressionism, detailed.\n",
    "\n",
    "    Wyniki zwróć w formacie json:\n",
    "    Przykład:\n",
    "    User input:'Temat: Starożytny Bliski Wschód + lista lekcji: ['Rewolucja neolityczna', 'Uwarunkowania geograficzne rozwoju cywilizacji na Bliskim Wschodzie', 'Organizacja państw i struktura społeczeństw w cywilizacjach starożytnego Bliskiego Wschodu', 'Najważniejsze osiągnięcia kulturowe starożytnych cywilizacji Bliskiego Wschodu', 'Wierzenia ludów tworzących cywilizację starożytnego Bliskiego Wschodu, z uwzględnieniem judaizmu'] liczba slajdów : 5':\n",
    "    Your Output:\n",
    "    {\n",
    "        \"slajd_name\": \"Rewolucja neolityczna\",\n",
    "        \"content\": [\n",
    "          \"Rewolucja neolityczna, znana również jako rewolucja rolnicza, zapoczątkowała przejście od zbieractwa i łowiectwa do rolnictwa i osiadłego trybu życia.\",\n",
    "          \"Z inicjatywy tego procesu, ludzie zaczęli domestykować zwierzęta takie jak owce, kozy i bydło, co znacznie zmieniło ich sposób życia.\",\n",
    "          \"Budowa trwałych osiedli i wiosek była możliwa dzięki stałym dostępom do żywności, co doprowadziło do rozwoju pierwszych społeczności rolniczych.\",\n",
    "          \"Rewolucja neolityczna przyczyniła się do powstania nowych technologii, takich jak ceramika, tkactwo i wczesne formy irygacji.\",\n",
    "          \"Zmiany te pozwoliły na wzrost liczby ludności i złożoność społeczeństw, co ostatecznie doprowadziło do powstania pierwszych cywilizacji.\"\n",
    "        ],\n",
    "        \"prompts\": [\n",
    "          [\"Neolithic farming, early agricultural activities\", \"Ancient people cultivating land, simple tools in use\"],\n",
    "          [\"Domestication of sheep and goats in ancient times\", \"Early human settlers with domesticated cattle\"],\n",
    "          [\"Ancient Neolithic village, mud houses\", \"Neolithic farmers working together, communal living\"],\n",
    "          [\"Early Neolithic pottery making, clay vessels\", \"Ancient weaving, basic loom in operation\"],\n",
    "          [\"Growing ancient population, community gatherings\", \"Complex Neolithic society, varied activities and roles\"]\n",
    "        ]\n",
    "      }\n",
    "    \"\"\"\n",
    "\n",
    "    user_prompt = f\"Temat: {record.get('topic')} + lista lekcji: {record.get('issues')} liczba slajdów : 5\"\n",
    "\n",
    "\n",
    "    completion = client.chat.completions.create(\n",
    "    model=\"ft:gpt-3.5-turbo-1106:huks::8vMuzg3f\",\n",
    "    temperature = 0,\n",
    "    messages=[\n",
    "        {\"role\": \"system\", \"content\": new_prompt},\n",
    "        {\"role\": \"user\", \"content\": user_prompt}\n",
    "      ]\n",
    "    )\n",
    "    output = completion.choices[0].message.dict().get('content')\n",
    "    print(output)\n",
    "    json_output = json.loads(output)\n",
    "    whole_dict[record.get('topic')] = json_output"
   ]
  },
  {
   "cell_type": "code",
   "execution_count": null,
   "metadata": {
    "id": "GiVtFtbEYJyy"
   },
   "outputs": [],
   "source": [
    "whole_dict"
   ]
  },
  {
   "cell_type": "code",
   "execution_count": null,
   "metadata": {
    "id": "xXxqkpJMdraC"
   },
   "outputs": [],
   "source": []
  },
  {
   "cell_type": "code",
   "execution_count": null,
   "metadata": {},
   "outputs": [],
   "source": []
  },
  {
   "cell_type": "code",
   "execution_count": null,
   "metadata": {},
   "outputs": [],
   "source": []
  }
 ],
 "metadata": {
  "colab": {
   "authorship_tag": "ABX9TyMJu60pDOBBFmYH77Llv9ur",
   "provenance": []
  },
  "kernelspec": {
   "display_name": "Python 3 (ipykernel)",
   "language": "python",
   "name": "python3"
  },
  "language_info": {
   "codemirror_mode": {
    "name": "ipython",
    "version": 3
   },
   "file_extension": ".py",
   "mimetype": "text/x-python",
   "name": "python",
   "nbconvert_exporter": "python",
   "pygments_lexer": "ipython3",
   "version": "3.12.6"
  },
  "widgets": {
   "application/vnd.jupyter.widget-state+json": {
    "1e99139da4ce40c186850a84feb27e48": {
     "model_module": "@jupyter-widgets/controls",
     "model_module_version": "1.5.0",
     "model_name": "HBoxModel",
     "state": {
      "_dom_classes": [],
      "_model_module": "@jupyter-widgets/controls",
      "_model_module_version": "1.5.0",
      "_model_name": "HBoxModel",
      "_view_count": null,
      "_view_module": "@jupyter-widgets/controls",
      "_view_module_version": "1.5.0",
      "_view_name": "HBoxView",
      "box_style": "",
      "children": [
       "IPY_MODEL_4f7f62bef5e144919f361721910756cd",
       "IPY_MODEL_24a20393af24403e9f318a3ae173fb6f",
       "IPY_MODEL_834ad6c3711f4ea88c143140da2649e7"
      ],
      "layout": "IPY_MODEL_cafa9d5c6e824a33a3328f05903589a1"
     }
    },
    "24a20393af24403e9f318a3ae173fb6f": {
     "model_module": "@jupyter-widgets/controls",
     "model_module_version": "1.5.0",
     "model_name": "FloatProgressModel",
     "state": {
      "_dom_classes": [],
      "_model_module": "@jupyter-widgets/controls",
      "_model_module_version": "1.5.0",
      "_model_name": "FloatProgressModel",
      "_view_count": null,
      "_view_module": "@jupyter-widgets/controls",
      "_view_module_version": "1.5.0",
      "_view_name": "ProgressView",
      "bar_style": "success",
      "description": "",
      "description_tooltip": null,
      "layout": "IPY_MODEL_e40fc3bc9c3341d78e39d97dc88caf4e",
      "max": 1,
      "min": 0,
      "orientation": "horizontal",
      "style": "IPY_MODEL_e916f75de148486f8f9c4d0ecbe92e6c",
      "value": 0
     }
    },
    "4f7f62bef5e144919f361721910756cd": {
     "model_module": "@jupyter-widgets/controls",
     "model_module_version": "1.5.0",
     "model_name": "HTMLModel",
     "state": {
      "_dom_classes": [],
      "_model_module": "@jupyter-widgets/controls",
      "_model_module_version": "1.5.0",
      "_model_name": "HTMLModel",
      "_view_count": null,
      "_view_module": "@jupyter-widgets/controls",
      "_view_module_version": "1.5.0",
      "_view_name": "HTMLView",
      "description": "",
      "description_tooltip": null,
      "layout": "IPY_MODEL_a7c79fdfaa1c466c9d8e2f5b14fea8a1",
      "placeholder": "​",
      "style": "IPY_MODEL_e9ac985a574f410caf134a2669743f01",
      "value": ""
     }
    },
    "520c6ee64abd4ac4959ec9afd86ab09f": {
     "model_module": "@jupyter-widgets/controls",
     "model_module_version": "1.5.0",
     "model_name": "DescriptionStyleModel",
     "state": {
      "_model_module": "@jupyter-widgets/controls",
      "_model_module_version": "1.5.0",
      "_model_name": "DescriptionStyleModel",
      "_view_count": null,
      "_view_module": "@jupyter-widgets/base",
      "_view_module_version": "1.2.0",
      "_view_name": "StyleView",
      "description_width": ""
     }
    },
    "834ad6c3711f4ea88c143140da2649e7": {
     "model_module": "@jupyter-widgets/controls",
     "model_module_version": "1.5.0",
     "model_name": "HTMLModel",
     "state": {
      "_dom_classes": [],
      "_model_module": "@jupyter-widgets/controls",
      "_model_module_version": "1.5.0",
      "_model_name": "HTMLModel",
      "_view_count": null,
      "_view_module": "@jupyter-widgets/controls",
      "_view_module_version": "1.5.0",
      "_view_name": "HTMLView",
      "description": "",
      "description_tooltip": null,
      "layout": "IPY_MODEL_bb60b07902de4ce0aec569a06a90c0c2",
      "placeholder": "​",
      "style": "IPY_MODEL_520c6ee64abd4ac4959ec9afd86ab09f",
      "value": " 0/0 [00:00&lt;?, ?it/s]"
     }
    },
    "a7c79fdfaa1c466c9d8e2f5b14fea8a1": {
     "model_module": "@jupyter-widgets/base",
     "model_module_version": "1.2.0",
     "model_name": "LayoutModel",
     "state": {
      "_model_module": "@jupyter-widgets/base",
      "_model_module_version": "1.2.0",
      "_model_name": "LayoutModel",
      "_view_count": null,
      "_view_module": "@jupyter-widgets/base",
      "_view_module_version": "1.2.0",
      "_view_name": "LayoutView",
      "align_content": null,
      "align_items": null,
      "align_self": null,
      "border": null,
      "bottom": null,
      "display": null,
      "flex": null,
      "flex_flow": null,
      "grid_area": null,
      "grid_auto_columns": null,
      "grid_auto_flow": null,
      "grid_auto_rows": null,
      "grid_column": null,
      "grid_gap": null,
      "grid_row": null,
      "grid_template_areas": null,
      "grid_template_columns": null,
      "grid_template_rows": null,
      "height": null,
      "justify_content": null,
      "justify_items": null,
      "left": null,
      "margin": null,
      "max_height": null,
      "max_width": null,
      "min_height": null,
      "min_width": null,
      "object_fit": null,
      "object_position": null,
      "order": null,
      "overflow": null,
      "overflow_x": null,
      "overflow_y": null,
      "padding": null,
      "right": null,
      "top": null,
      "visibility": null,
      "width": null
     }
    },
    "bb60b07902de4ce0aec569a06a90c0c2": {
     "model_module": "@jupyter-widgets/base",
     "model_module_version": "1.2.0",
     "model_name": "LayoutModel",
     "state": {
      "_model_module": "@jupyter-widgets/base",
      "_model_module_version": "1.2.0",
      "_model_name": "LayoutModel",
      "_view_count": null,
      "_view_module": "@jupyter-widgets/base",
      "_view_module_version": "1.2.0",
      "_view_name": "LayoutView",
      "align_content": null,
      "align_items": null,
      "align_self": null,
      "border": null,
      "bottom": null,
      "display": null,
      "flex": null,
      "flex_flow": null,
      "grid_area": null,
      "grid_auto_columns": null,
      "grid_auto_flow": null,
      "grid_auto_rows": null,
      "grid_column": null,
      "grid_gap": null,
      "grid_row": null,
      "grid_template_areas": null,
      "grid_template_columns": null,
      "grid_template_rows": null,
      "height": null,
      "justify_content": null,
      "justify_items": null,
      "left": null,
      "margin": null,
      "max_height": null,
      "max_width": null,
      "min_height": null,
      "min_width": null,
      "object_fit": null,
      "object_position": null,
      "order": null,
      "overflow": null,
      "overflow_x": null,
      "overflow_y": null,
      "padding": null,
      "right": null,
      "top": null,
      "visibility": null,
      "width": null
     }
    },
    "cafa9d5c6e824a33a3328f05903589a1": {
     "model_module": "@jupyter-widgets/base",
     "model_module_version": "1.2.0",
     "model_name": "LayoutModel",
     "state": {
      "_model_module": "@jupyter-widgets/base",
      "_model_module_version": "1.2.0",
      "_model_name": "LayoutModel",
      "_view_count": null,
      "_view_module": "@jupyter-widgets/base",
      "_view_module_version": "1.2.0",
      "_view_name": "LayoutView",
      "align_content": null,
      "align_items": null,
      "align_self": null,
      "border": null,
      "bottom": null,
      "display": null,
      "flex": null,
      "flex_flow": null,
      "grid_area": null,
      "grid_auto_columns": null,
      "grid_auto_flow": null,
      "grid_auto_rows": null,
      "grid_column": null,
      "grid_gap": null,
      "grid_row": null,
      "grid_template_areas": null,
      "grid_template_columns": null,
      "grid_template_rows": null,
      "height": null,
      "justify_content": null,
      "justify_items": null,
      "left": null,
      "margin": null,
      "max_height": null,
      "max_width": null,
      "min_height": null,
      "min_width": null,
      "object_fit": null,
      "object_position": null,
      "order": null,
      "overflow": null,
      "overflow_x": null,
      "overflow_y": null,
      "padding": null,
      "right": null,
      "top": null,
      "visibility": null,
      "width": null
     }
    },
    "e40fc3bc9c3341d78e39d97dc88caf4e": {
     "model_module": "@jupyter-widgets/base",
     "model_module_version": "1.2.0",
     "model_name": "LayoutModel",
     "state": {
      "_model_module": "@jupyter-widgets/base",
      "_model_module_version": "1.2.0",
      "_model_name": "LayoutModel",
      "_view_count": null,
      "_view_module": "@jupyter-widgets/base",
      "_view_module_version": "1.2.0",
      "_view_name": "LayoutView",
      "align_content": null,
      "align_items": null,
      "align_self": null,
      "border": null,
      "bottom": null,
      "display": null,
      "flex": null,
      "flex_flow": null,
      "grid_area": null,
      "grid_auto_columns": null,
      "grid_auto_flow": null,
      "grid_auto_rows": null,
      "grid_column": null,
      "grid_gap": null,
      "grid_row": null,
      "grid_template_areas": null,
      "grid_template_columns": null,
      "grid_template_rows": null,
      "height": null,
      "justify_content": null,
      "justify_items": null,
      "left": null,
      "margin": null,
      "max_height": null,
      "max_width": null,
      "min_height": null,
      "min_width": null,
      "object_fit": null,
      "object_position": null,
      "order": null,
      "overflow": null,
      "overflow_x": null,
      "overflow_y": null,
      "padding": null,
      "right": null,
      "top": null,
      "visibility": null,
      "width": "20px"
     }
    },
    "e916f75de148486f8f9c4d0ecbe92e6c": {
     "model_module": "@jupyter-widgets/controls",
     "model_module_version": "1.5.0",
     "model_name": "ProgressStyleModel",
     "state": {
      "_model_module": "@jupyter-widgets/controls",
      "_model_module_version": "1.5.0",
      "_model_name": "ProgressStyleModel",
      "_view_count": null,
      "_view_module": "@jupyter-widgets/base",
      "_view_module_version": "1.2.0",
      "_view_name": "StyleView",
      "bar_color": null,
      "description_width": ""
     }
    },
    "e9ac985a574f410caf134a2669743f01": {
     "model_module": "@jupyter-widgets/controls",
     "model_module_version": "1.5.0",
     "model_name": "DescriptionStyleModel",
     "state": {
      "_model_module": "@jupyter-widgets/controls",
      "_model_module_version": "1.5.0",
      "_model_name": "DescriptionStyleModel",
      "_view_count": null,
      "_view_module": "@jupyter-widgets/base",
      "_view_module_version": "1.2.0",
      "_view_name": "StyleView",
      "description_width": ""
     }
    }
   }
  }
 },
 "nbformat": 4,
 "nbformat_minor": 4
}
